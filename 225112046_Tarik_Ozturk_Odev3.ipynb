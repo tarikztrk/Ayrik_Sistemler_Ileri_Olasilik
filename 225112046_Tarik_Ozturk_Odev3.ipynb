{
 "cells": [
  {
   "cell_type": "code",
   "execution_count": null,
   "id": "b4eeddef",
   "metadata": {},
   "outputs": [],
   "source": [
    "Bir çilingirin kullandığı anahtarlar arasında 15 adet ev anahtarı ve 20 adet araba anahtarı vardır.seçilen anahtarın geri bırakılmaması şartıyla seçilen ilk anahtarın araba ikinci anahtarın ev anahtarı olma olasılığı nedir ?"
   ]
  },
  {
   "cell_type": "code",
   "execution_count": null,
   "id": "aabdca03",
   "metadata": {},
   "outputs": [],
   "source": [
    "ÇÖZÜM : İlk anahtarın araba anahtarı olma olasılığı: P(Araba) = 20 / (15 + 20) = 4/7\n",
    "İlk anahtarın araba anahtarı olduğu bilindiğine göre, ev anahtarı olma olasılığı: P(Ev | Araba) = 15 / (15 + 20 - 1) = 15/34,\n",
    "\n",
    "Sonuç olarak, seçilen ilk anahtarın araba anahtarı olduğu bilindiğinde, ikinci anahtarın ev anahtarı olma olasılığı 15/34'tür.\n",
    "\n",
    "SOrunun cevabını bu olasılıkları çarparak bulabiliriz."
   ]
  },
  {
   "cell_type": "code",
   "execution_count": 1,
   "id": "19876018",
   "metadata": {},
   "outputs": [
    {
     "name": "stdout",
     "output_type": "stream",
     "text": [
      "İlk anahtar araba, ikinci anahtar ev olma olasılığı:  0.2352941176470588\n"
     ]
    }
   ],
   "source": [
    "# İlk anahtar araba, ikinci anahtar ev olma olasılığı\n",
    "\n",
    "# İlk anahtarın araba olma olasılığı\n",
    "p_araba = 20/(15+20)\n",
    "\n",
    "\n",
    "# İkinci anahtarın ev olma olasılığı\n",
    "p_2ev = 14/(15+19)\n",
    "\n",
    "# İlk anahtar araba ve ikinci anahtar ev olma olasılığı\n",
    "p_araba_2ev = p_araba * p_2ev\n",
    "\n",
    "print(\"İlk anahtar araba, ikinci anahtar ev olma olasılığı: \", p_araba_2ev)"
   ]
  }
 ],
 "metadata": {
  "kernelspec": {
   "display_name": "Python 3 (ipykernel)",
   "language": "python",
   "name": "python3"
  },
  "language_info": {
   "codemirror_mode": {
    "name": "ipython",
    "version": 3
   },
   "file_extension": ".py",
   "mimetype": "text/x-python",
   "name": "python",
   "nbconvert_exporter": "python",
   "pygments_lexer": "ipython3",
   "version": "3.10.11"
  }
 },
 "nbformat": 4,
 "nbformat_minor": 5
}
