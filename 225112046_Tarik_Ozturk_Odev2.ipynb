{
 "cells": [
  {
   "cell_type": "markdown",
   "id": "2bfbc954",
   "metadata": {},
   "source": []
  },
  {
   "cell_type": "code",
   "execution_count": null,
   "id": "df386cf3",
   "metadata": {},
   "outputs": [],
   "source": [
    "SORU : 16 yazılımcı 4 analistin olduğu bir şirkette rastgele 4 kişi seçilerek yeni bir ekip oluşturulacaktır. Oluşturulan ekipte en az 1 analist olma olasılığı nedir ?"
   ]
  },
  {
   "cell_type": "code",
   "execution_count": 6,
   "id": "023feb81",
   "metadata": {},
   "outputs": [
    {
     "ename": "SyntaxError",
     "evalue": "invalid syntax (3716698029.py, line 1)",
     "output_type": "error",
     "traceback": [
      "\u001b[1;36m  Cell \u001b[1;32mIn[6], line 1\u001b[1;36m\u001b[0m\n\u001b[1;33m    ÇÖZÜM : TÜm çalışanların arasından 4 kişi seçileceği için toplam seiçim sayısı P(20,4)\u001b[0m\n\u001b[1;37m                ^\u001b[0m\n\u001b[1;31mSyntaxError\u001b[0m\u001b[1;31m:\u001b[0m invalid syntax\n"
     ]
    }
   ],
   "source": [
    "ÇÖZÜM : TÜm çalışanların arasından 4 kişi seçileceği için toplam seçim sayısı P(20,4)    P(20/4) = 20!/(20-4)!\n",
    "    \n",
    "    En az bir analist içeren bir ekip sayısını bulmak için tamamı yazılımcı olan ekip sayısının tüm olasılıklardan çıkarılması gerekir. \n",
    "    \n",
    "    Tamamı yazılımcı olan ekip sayısı P(16,4) / P(20,4) = (16!/(16-4)!) /  20!/(20-4)!\n",
    "    \n",
    "    En az 1 analist olan ekip sayısı = 1 - (tamamı yazılımcı olan ekip sayısı) : 1 - (16!/(16-4)!) /  20!/(20-4)!\n",
    "    "
   ]
  },
  {
   "cell_type": "code",
   "execution_count": 13,
   "id": "ff5be2e7",
   "metadata": {},
   "outputs": [
    {
     "name": "stdout",
     "output_type": "stream",
     "text": [
      "Oluşturulan ekipte en az bir analist olma ihtimali 0.6244\n"
     ]
    }
   ],
   "source": [
    "import math\n",
    "\n",
    "total = math.perm(20, 4)\n",
    "allDeveloper = math.perm(16, 4)\n",
    "\n",
    "result = 1 - (allDeveloper / total)\n",
    "\n",
    "print(\"Oluşturulan ekipte en az bir analist olma ihtimali {:.4f}\".format(result))"
   ]
  },
  {
   "cell_type": "code",
   "execution_count": null,
   "id": "ff51ce14",
   "metadata": {},
   "outputs": [],
   "source": [
    "SORU : Bir şirkette 10 yazılımcı ve 5 analist bulunmaktadır. Bu şirketten 4 kişi seçilecektir. Kaç farklı seçim yapılabilir?"
   ]
  },
  {
   "cell_type": "code",
   "execution_count": null,
   "id": "3c7ea696",
   "metadata": {
    "scrolled": true
   },
   "outputs": [],
   "source": [
    "ÇÖZÜM : Şirketteki toplam 15 kişi, bunların içinde 4 kişi seçilecektir. Bu nedenle, toplamda 15'in 4'lü kombinasyonunu hesaplayarak cevabı bulabiliriz.\n",
    "    \n",
    "    C(15,4) = 15!/4!(15-4)! = 15!/4!11! = 1365 farklı seçim yapılabilir."
   ]
  },
  {
   "cell_type": "code",
   "execution_count": 14,
   "id": "3df073a7",
   "metadata": {},
   "outputs": [
    {
     "name": "stdout",
     "output_type": "stream",
     "text": [
      "Toplam farklı seçim sayısı: 1364\n"
     ]
    }
   ],
   "source": [
    "def kombinasyon(n, r):\n",
    "    sonuc = 1\n",
    "    for i in range(1, r+1):\n",
    "        sonuc *= (n - i + 1) / i\n",
    "    return int(sonuc)\n",
    "\n",
    "yazilimci_sayisi = 10\n",
    "analist_sayisi = 5\n",
    "toplam_sayi = yazilimci_sayisi + analist_sayisi\n",
    "secilecek_kisi_sayisi = 4\n",
    "sonuc = kombinasyon(toplam_sayi, secilecek_kisi_sayisi)\n",
    "print(\"Toplam farklı seçim sayısı:\", sonuc)"
   ]
  }
 ],
 "metadata": {
  "kernelspec": {
   "display_name": "Python 3 (ipykernel)",
   "language": "python",
   "name": "python3"
  },
  "language_info": {
   "codemirror_mode": {
    "name": "ipython",
    "version": 3
   },
   "file_extension": ".py",
   "mimetype": "text/x-python",
   "name": "python",
   "nbconvert_exporter": "python",
   "pygments_lexer": "ipython3",
   "version": "3.10.11"
  }
 },
 "nbformat": 4,
 "nbformat_minor": 5
}
